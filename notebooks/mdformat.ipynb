{
 "cells": [
  {
   "cell_type": "code",
   "execution_count": null,
   "metadata": {},
   "outputs": [],
   "source": [
    "import mdformat\n",
    "\n",
    "unformatted = \"content...\\n\"\n",
    "# Pass in `extensions` here! It is an iterable of extensions that should be loaded\n",
    "formatted = mdformat.text(unformatted, extensions={\"gfm\"})\n"
   ]
  },
  {
   "cell_type": "code",
   "execution_count": null,
   "metadata": {},
   "outputs": [],
   "source": [
    "dir=\"/Users/dan/Code/f_me/youtube_summary/podcast_summary_2025_03_20-11_07_51\"\n",
    "file_path=f\"{dir}/final_report.txt\"\n",
    "with open(file_path, 'r') as file:\n",
    "    unformatted = file.read()\n",
    "    \n",
    "print(unformatted)"
   ]
  },
  {
   "cell_type": "code",
   "execution_count": null,
   "metadata": {},
   "outputs": [],
   "source": [
    "formatted = mdformat.text(unformatted, extensions={\"gfm\"})\n",
    "print(formatted)"
   ]
  },
  {
   "cell_type": "code",
   "execution_count": 1,
   "metadata": {},
   "outputs": [],
   "source": [
    "# System level imports\n",
    "import sys\n",
    "import os\n",
    "\n",
    "# ##### SET SYS PATH TO WHERE THE CODE IS. #####\n",
    "# Note: Putting our code first in the sys path will make sure it gets picked up first\n",
    "base_dir='/Users/dan/Code/f_me/youtube_summary'\n",
    "sys.path.insert(0, base_dir)"
   ]
  },
  {
   "cell_type": "code",
   "execution_count": 2,
   "metadata": {},
   "outputs": [],
   "source": [
    "from app.checkpoint import set_checkpoint_directory, checkpoint, reset_checkpoint_counter"
   ]
  },
  {
   "cell_type": "code",
   "execution_count": 3,
   "metadata": {},
   "outputs": [],
   "source": [
    "class FECLASS:\n",
    "    @checkpoint\n",
    "    def noparams(self):\n",
    "        print(\"no params\")\n",
    "        return 1\n",
    "    @checkpoint\n",
    "    def oneparams(self,one:str):\n",
    "        print(f\"no params {one}\")\n",
    "        return 1\n",
    "    "
   ]
  },
  {
   "cell_type": "code",
   "execution_count": 4,
   "metadata": {},
   "outputs": [
    {
     "name": "stdout",
     "output_type": "stream",
     "text": [
      "no params\n",
      "no params no key\n",
      "no params key\n"
     ]
    },
    {
     "data": {
      "text/plain": [
       "1"
      ]
     },
     "execution_count": 4,
     "metadata": {},
     "output_type": "execute_result"
    }
   ],
   "source": [
    "reset_checkpoint_counter()\n",
    "feclass = FECLASS()\n",
    "feclass.noparams()\n",
    "feclass.oneparams(\"no key\")\n",
    "feclass.oneparams(one=\"key\")"
   ]
  },
  {
   "cell_type": "code",
   "execution_count": 5,
   "metadata": {},
   "outputs": [
    {
     "name": "stdout",
     "output_type": "stream",
     "text": [
      "True\n",
      "131072\n",
      "gemma3\n"
     ]
    }
   ],
   "source": [
    "from app.ollama_utils import OllamaUtils\n",
    "\n",
    "ollama_utils  = OllamaUtils()\n",
    "print(ollama_utils.model_exists('gemma3:27b'))\n",
    "print(ollama_utils.model_context_size('gemma3:27b'))\n",
    "print(ollama_utils.model_base_model('gemma3:27b'))"
   ]
  },
  {
   "cell_type": "code",
   "execution_count": null,
   "metadata": {},
   "outputs": [],
   "source": []
  }
 ],
 "metadata": {
  "kernelspec": {
   "display_name": "llm-experiment",
   "language": "python",
   "name": "python3"
  },
  "language_info": {
   "codemirror_mode": {
    "name": "ipython",
    "version": 3
   },
   "file_extension": ".py",
   "mimetype": "text/x-python",
   "name": "python",
   "nbconvert_exporter": "python",
   "pygments_lexer": "ipython3",
   "version": "3.12.9"
  }
 },
 "nbformat": 4,
 "nbformat_minor": 2
}
